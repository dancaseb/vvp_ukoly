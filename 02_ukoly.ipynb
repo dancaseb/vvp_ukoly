{
 "cells": [
  {
   "attachments": {},
   "cell_type": "markdown",
   "metadata": {},
   "source": [
    "# Prostory jmen a obor platnosti proměnných:\n",
    "- Upravte funkci nalézající prvočísla tak, aby ukládala již spočítané prvočísla do listu v defaultním argumentu funkce. \n"
   ]
  },
  {
   "cell_type": "code",
   "execution_count": null,
   "metadata": {},
   "outputs": [],
   "source": [
    "def najdi_prvocisla(n, prvocisla = [2]):\n",
    "    print(f\"argument list parametru prvocisla obsahuje {prvocisla}\")\n",
    "    i = prvocisla[-1]\n",
    "    while len(prvocisla) < n:\n",
    "        i += 1\n",
    "        for prvocislo in prvocisla:\n",
    "            if i % prvocislo == 0:\n",
    "                break\n",
    "        else:\n",
    "            prvocisla.append(i)\n",
    "    return prvocisla"
   ]
  },
  {
   "cell_type": "code",
   "execution_count": null,
   "outputs": [],
   "source": [
    "print(najdi_prvocisla(2))\n",
    "print(najdi_prvocisla(2))\n",
    "print(najdi_prvocisla(10))\n",
    "print(najdi_prvocisla(40))"
   ],
   "metadata": {
    "collapsed": false
   }
  },
  {
   "attachments": {},
   "cell_type": "markdown",
   "metadata": {},
   "source": [
    "\n",
    "# Jupyter magics:\n",
    "- použijte funkci %%writefile a pomocí ní (a kopie funkcí z posledního DU) vytvořte .py soubor sloužící jako modul mající tři funkce viz minulý DU\n",
    "- Použijte magic příkazy %time %timeit %%time a %%timeit k měření času běhu různých částí kódu (například funkcí z minulého DU).\n"
   ]
  },
  {
   "cell_type": "code",
   "execution_count": null,
   "outputs": [],
   "source": [],
   "metadata": {
    "collapsed": false
   }
  },
  {
   "cell_type": "code",
   "execution_count": null,
   "metadata": {},
   "outputs": [],
   "source": [
    "%%writefile pi_approximation.py\n",
    "import math\n",
    "def proste_iterace(a,n):\n",
    "    x_i = a\n",
    "    for _ in range(n):\n",
    "        x = (a/x_i + x_i)/2\n",
    "        x_i = x\n",
    "    return x_i\n",
    "\n",
    "# vypocte obsah 6*2^n uhelniku, odhad pi\n",
    "def odhad_pi(n):\n",
    "    # inicializace hodnot, zaciname s rovnoramennym trojuhelnikem s delkou strany 1\n",
    "    # a je delka ramene a vzdy bude rovna 1, b je delka zakladny, v je vyska, S je obsah aktualniho mnohouhelniku\n",
    "    a, b, v, S = 1, 1, None, 0\n",
    "\n",
    "    v = proste_iterace(a**2 - (b/2)**2, 100)\n",
    "    if n == 0:\n",
    "        S = 6 * 2**n * b * v / 2\n",
    "        return S\n",
    "\n",
    "    condition_check = False\n",
    "    for i in range(1,n):\n",
    "        b = proste_iterace((b/2)**2 + (1 - v)**2, 100)\n",
    "        v = proste_iterace(a**2 - (b/2)**2, 100)\n",
    "        S = 6 * 2**i * b * v / 2\n",
    "        if (abs(S - math.pi) <= 10**-6) and (condition_check is not True):\n",
    "            condition_check = True\n",
    "            # print(f\"Potrebujeme alespon {6 * 2**i} uhelnik, aby aproximace Pi byla s chybou mensi nez 10 ^ -6. Iterace {i}\")\n",
    "            continue\n",
    "\n",
    "\n",
    "    return S\n",
    "\n",
    "def odhad_pi_newton(n):\n",
    "    a = (1 / 2) * (1 / (2 ** 3))\n",
    "    suma = ((1 / ((2 * 1) + 1)) * a)\n",
    "    for i in range(2, n + 1):\n",
    "        a = a * ((2 * i - 3) / (2 * i)) * (1 / (2 ** 2))\n",
    "        suma += ((1 / ((2 * i) + 1)) * a)\n",
    "    pi = 12 * (-(proste_iterace(3, 1000) / 8) + (1 / 2) - suma)\n",
    "    return pi"
   ]
  },
  {
   "cell_type": "code",
   "execution_count": null,
   "outputs": [],
   "source": [
    "from pi_approximation import odhad_pi, odhad_pi_newton, proste_iterace"
   ],
   "metadata": {
    "collapsed": false
   }
  },
  {
   "cell_type": "code",
   "execution_count": null,
   "outputs": [],
   "source": [
    "%time proste_iterace(123456123, 1000000)"
   ],
   "metadata": {
    "collapsed": false
   }
  },
  {
   "cell_type": "code",
   "execution_count": null,
   "outputs": [],
   "source": [
    "%%timeit\n",
    "proste_iterace(123456123, 1000)"
   ],
   "metadata": {
    "collapsed": false
   }
  },
  {
   "cell_type": "code",
   "execution_count": null,
   "outputs": [],
   "source": [
    "%timeit odhad_pi_newton(20)"
   ],
   "metadata": {
    "collapsed": false
   }
  },
  {
   "cell_type": "code",
   "execution_count": null,
   "outputs": [],
   "source": [
    "%%timeit\n",
    "odhad_pi_newton(20)"
   ],
   "metadata": {
    "collapsed": false
   }
  },
  {
   "cell_type": "code",
   "execution_count": null,
   "outputs": [],
   "source": [
    "%%time\n",
    "odhad_pi_newton(20)"
   ],
   "metadata": {
    "collapsed": false
   }
  },
  {
   "cell_type": "markdown",
   "metadata": {},
   "source": [
    "\n",
    "# Práce s řetězci:\n",
    "\n",
    "- Použíjte funkce z minulého úkolu a v cyklu spočtěte $\\pi$ s různým $n$. Pomocí f-strings vypište výsledky ve formátu \"n = 5, pi = 3.14159, počet správných cifer = 5\".\n"
   ]
  },
  {
   "cell_type": "code",
   "execution_count": null,
   "metadata": {},
   "outputs": [],
   "source": [
    "for n in range(20,36):\n",
    "    pi = odhad_pi(n)\n",
    "    print(f\"{n=}, {pi=}\")"
   ]
  },
  {
   "cell_type": "code",
   "execution_count": null,
   "outputs": [],
   "source": [
    "for n in range(1,10):\n",
    "    pi = odhad_pi_newton(n)\n",
    "    print(f\"{n=}, {pi=}\")"
   ],
   "metadata": {
    "collapsed": false
   }
  },
  {
   "cell_type": "markdown",
   "metadata": {},
   "source": [
    "\n",
    "# Generátory a iterátory:\n",
    "\n",
    "- Napište generátor (funkci), který vytváří Fibonacciho posloupnost a vrátí prvních $n$ členů.\n"
   ]
  },
  {
   "cell_type": "code",
   "execution_count": null,
   "metadata": {},
   "outputs": [],
   "source": [
    "def fib(n):\n",
    "    prev, next = 0,1\n",
    "    for i in range(0,n):\n",
    "        yield prev\n",
    "        prev, next = next, prev+ next"
   ]
  },
  {
   "cell_type": "code",
   "execution_count": null,
   "outputs": [],
   "source": [
    "fibonacci_seq = fib(9)\n",
    "print(next(fibonacci_seq))\n",
    "print(next(fibonacci_seq))\n",
    "print(next(fibonacci_seq))\n",
    "print(next(fibonacci_seq))\n",
    "print(next(fibonacci_seq))\n",
    "print(next(fibonacci_seq))\n",
    "print(next(fibonacci_seq))\n",
    "print(next(fibonacci_seq))\n",
    "print(next(fibonacci_seq))\n",
    "print(next(fibonacci_seq))"
   ],
   "metadata": {
    "collapsed": false
   }
  },
  {
   "cell_type": "code",
   "execution_count": null,
   "outputs": [],
   "source": [
    "fibonacci_seq = fib(5)\n",
    "for i in fibonacci_seq:\n",
    "    print(i)"
   ],
   "metadata": {
    "collapsed": false
   }
  },
  {
   "cell_type": "markdown",
   "metadata": {},
   "source": [
    "# List comprehension:\n",
    "- Vytvořte seznam čísel od 1 do 10 pomocí list comprehension.\n",
    "- Vytvořte seznam druhých mocnin čísel od 1 do 10 pomocí list comprehension.\n",
    "- Vytvořte seznam prvočísel od 1 do 100 pomocí list comprehension. Hint (použijte funkci all() na generátor testující dělitelnost).\n"
   ]
  },
  {
   "cell_type": "code",
   "execution_count": null,
   "metadata": {},
   "outputs": [],
   "source": [
    "num_list = [x for x in range(1,11)]\n",
    "num_list"
   ]
  },
  {
   "cell_type": "code",
   "execution_count": null,
   "outputs": [],
   "source": [
    "squared_list = [x**2 for x in range(1,11)]\n",
    "squared_list"
   ],
   "metadata": {
    "collapsed": false
   }
  },
  {
   "cell_type": "code",
   "execution_count": null,
   "outputs": [],
   "source": [
    "lst = [i for i in range(2,100) if all(i % x != 0 for x in range(2,i))]\n",
    "print(lst)"
   ],
   "metadata": {
    "collapsed": false
   }
  },
  {
   "cell_type": "markdown",
   "metadata": {},
   "source": [
    "# Práce se soubory:\n",
    "- Pomocí %%writefile vytvořte soubor s nějakým textem.\n",
    "- Otevřete soubor pro čtení a vypište jeho obsah.\n",
    "- Otevřete jiný soubor pro zápis a napište do něj textový řetězec.\n",
    "- Pomocí f-strings zapište do souboru tabulku čísel od 1 do 10, jejich druhých mocnin a jejich druhých odmocnin."
   ]
  },
  {
   "cell_type": "code",
   "execution_count": null,
   "outputs": [],
   "source": [
    "%%writefile test.txt\n",
    "This is a test file"
   ],
   "metadata": {
    "collapsed": false
   }
  },
  {
   "cell_type": "code",
   "execution_count": null,
   "metadata": {},
   "outputs": [],
   "source": [
    "with open(\"test.txt\", \"r\") as file:\n",
    "    print(file.read())"
   ]
  },
  {
   "cell_type": "code",
   "execution_count": null,
   "outputs": [],
   "source": [
    "with open(\"write.txt\", \"w\") as file:\n",
    "    file.write(\"Hello,\\nworld\\n\")\n",
    "    for i in range(1,11):\n",
    "        file.write(f\"{i: >6} {i**2: >6} {i**3: >6}\\n\")"
   ],
   "metadata": {
    "collapsed": false
   }
  },
  {
   "attachments": {},
   "cell_type": "markdown",
   "metadata": {},
   "source": [
    "# Domácí úkol:\n",
    "Pomocí vlastních tříd a dědičnosti vytvořte \"soubor tříd\" = nástroj pro derivaci funkcí.\n",
    "\n",
    "Konkrétněji:\n",
    "- Vytvořte třídu **Operator**\n",
    "    - Třída bude mít metody:\n",
    "        - `__init__()` - inicializuje operátor (zde stačí `pass`)\n",
    "        - `__str__()` - vrací řetězec reprezentující operátor\n",
    "        - `__repr__()` - vrací řetězec reprezentující operátor\n",
    "- Vytvořte třídu **BinaryOperator**, která bude dědit od třídy Operator\n",
    "    - Třída bude mít atributy:\n",
    "        - `levy_argument` - levý operand\n",
    "        - `pravy_argument` - pravý operand\n",
    "    - Třída bude mít metody:\n",
    "        - `__init__()` - inicializuje operátor, přiřadí argumenty\n",
    "        - `__str__()` - vrací řetězec reprezentující operátor\n",
    "        - `__repr__()` - vrací řetězec reprezentující operátor\n",
    "        - `diff()` - vrací derivaci operátoru\n",
    "- Vytvořte třídu **UnaryOperator**, která bude dědit od třídy Operator\n",
    "    - Třída bude mít atributy:\n",
    "        - `argument` - argument funkce \n",
    "    - Třída bude mít metody:\n",
    "        - `__init__()` - inicializuje operátor, přiřadí argument\n",
    "        - `__str__()` - vrací řetězec reprezentující operátor\n",
    "        - `__repr__()` - vrací řetězec reprezentující operátor\n",
    "        - `diff()` - vrací derivaci operátoru\n",
    "\n",
    "Pro počítání derivací použijte standardní pravidla:\n",
    "- derivace součtu je součet derivací\n",
    "- pravidlo pro derivaci součinu\n",
    "- derivace funkce je derivovaná funkce násobená derivovaným argumentem\n",
    "\n",
    "Pro **BinaryOperator** a **UnaryOperator** implementujte také metody implementující standardní operátory:\n",
    "- `__add__()` - implementuje operátor `+`\n",
    "- `__sub__()` - implementuje operátor `-`\n",
    "- `__mul__()` - implementuje operátor `*`\n",
    "\n",
    "Pro **BinaryOperator** implementujte dvě dceřiné třídy:\n",
    "- **Addition** - implementuje operátor `+`\n",
    "- **Multiplication** - implementuje operátor `*`\n",
    "\n",
    "Pro **UnaryOperator** implementujte tyto dceřiné třídy:\n",
    "- **exp** - implementuje funkci `exp`\n",
    "- **sin** - implementuje funkci `sin`\n",
    "- **cos** - implementuje funkci `cos`\n",
    "- **ln** - implementuje funkci `ln`\n",
    "- **frc** - implementuje funkci `1/x`\n",
    "- **identity** - implementuje identitu `x`\n",
    "- **cst** - implementuje konstantu `c`\n",
    "- **mocnina** - implementuje mocninu `x^n`\n",
    "\n",
    "U všech funckí implementujte adekvátně metodu `diff()` a `__str__()`, tak aby se funkce vypisovaly v přehledné podobě.\n",
    "\n",
    "Ozkoušejte na následujících funkcích:\n",
    "- $sin(x + cos(x*x)) + 1$\n",
    "- $x^2 + 2x + 1 + 2x^2$\n",
    "- $x^2 + 2x + exp(x)$"
   ]
  },
  {
   "cell_type": "code",
   "execution_count": null,
   "metadata": {},
   "outputs": [],
   "source": [
    "# kostra k doplnění, místa označená TODO doplňte\n",
    "\n",
    "class Operator:\n",
    "    def __init__(self):\n",
    "        pass\n",
    "    \n",
    "    def __str__(self):\n",
    "        return type(self).__name__\n",
    "    \n",
    "    def __repr__(self):\n",
    "        return self.__str__()\n",
    "    \n",
    "    def diff(self):\n",
    "        pass\n",
    "    \n",
    "    def __add__(self, other):\n",
    "        return Addition(self,other)\n",
    "    \n",
    "    def __sub__(self, other):\n",
    "        return Addition(self,Multiplication(cst(-1), other))\n",
    "    \n",
    "    def __mul__(self, other):\n",
    "        return Multiplication(self,other)\n",
    "\n",
    "    def simplify(self):\n",
    "        return self\n",
    "    \n",
    "class BinaryOperator(Operator):\n",
    "    def __init__(self, levy_argument, pravy_argument):\n",
    "        self.levy_argument = levy_argument\n",
    "        self.pravy_argument = pravy_argument\n",
    "        \n",
    "class UnaryOperator(Operator):\n",
    "    def __init__(self, argument):\n",
    "        self.argument = argument\n",
    "    \n",
    "    def __str__(self):\n",
    "        return type(self).__name__ + \"(\" + str(self.argument) + \")\"\n",
    "        \n",
    "class Addition(BinaryOperator):\n",
    "    def __str__(self):\n",
    "        return f\"{self.levy_argument} + {self.pravy_argument}\"\n",
    "\n",
    "    def diff(self):\n",
    "        return Addition(self.levy_argument.diff(), self.pravy_argument.diff())\n",
    "\n",
    "    def simplify(self):\n",
    "        self.levy_argument = self.levy_argument.simplify()\n",
    "        self.pravy_argument = self.pravy_argument.simplify()\n",
    "        if self.levy_argument.__str__() == \"0\" and self.pravy_argument.__str__() == \"0\":\n",
    "            return \"\"\n",
    "        elif self.levy_argument.__str__() == \"0\":\n",
    "            return self.pravy_argument\n",
    "        elif self.pravy_argument.__str__() == \"0\":\n",
    "            return self.levy_argument\n",
    "        else:\n",
    "            return self\n",
    "    \n",
    "class Multiplication(BinaryOperator):\n",
    "    def __str__(self):\n",
    "        return f\"({self.levy_argument})*({self.pravy_argument})\"\n",
    "\n",
    "    def diff(self):\n",
    "        return Addition(Multiplication(self.levy_argument.diff(), self.pravy_argument), Multiplication(self.levy_argument, self.pravy_argument.diff()))\n",
    "\n",
    "    def simplify(self):\n",
    "        self.levy_argument = self.levy_argument.simplify()\n",
    "        self.pravy_argument = self.pravy_argument.simplify()\n",
    "        if self.levy_argument.__str__() == \"0\" or self.pravy_argument.__str__() == \"0\":\n",
    "            return cst(0)\n",
    "        elif self.levy_argument.__str__() == self.pravy_argument.__str__():\n",
    "            return mocnina(self.levy_argument, cst(2))\n",
    "        elif type(self.levy_argument) is cst and type(self.pravy_argument) is cst:\n",
    "            return cst(Multiplication(self.levy_argument, self.pravy_argument))\n",
    "        elif self.levy_argument.__str__() == \"1\":\n",
    "            return self.pravy_argument\n",
    "        elif self.pravy_argument.__str__() == \"1\":\n",
    "            return self.levy_argument\n",
    "        else:\n",
    "            return self\n",
    "    \n",
    "class cst(UnaryOperator):\n",
    "    def __init__(self, value):\n",
    "        self.value = value\n",
    "    def __str__(self):\n",
    "        return f\"{self.value}\"\n",
    "    def diff(self):\n",
    "        return cst(0)\n",
    "\n",
    "    def simplify(self):\n",
    "        return self\n",
    "\n",
    "class identity(UnaryOperator):\n",
    "    def __init__(self):\n",
    "        pass\n",
    "    def __str__(self):\n",
    "        return \"x\"\n",
    "    def diff(self):\n",
    "        return cst(1)\n",
    "\n",
    "    def simplify(self):\n",
    "        return self\n",
    "\n",
    "    \n",
    "class mocnina(UnaryOperator):\n",
    "    def __init__(self, argument, exponent):\n",
    "        self.argument = argument\n",
    "        self.exponent = exponent\n",
    "    def __str__(self):\n",
    "        return f\"({self.argument})^{self.exponent}\"\n",
    "    def diff(self):\n",
    "        return Multiplication(Multiplication(cst(self.exponent), mocnina(self.argument, self.exponent - 1)), self.argument.diff())\n",
    "\n",
    "    def simplify(self):\n",
    "        if self.exponent == 0 or self.argument == 1:\n",
    "            return cst(1)\n",
    "        elif self.exponent == 1:\n",
    "            return cst(self.argument)\n",
    "        else:\n",
    "            return self\n",
    "\n",
    "\n",
    "    \n",
    "class sin(UnaryOperator):\n",
    "    def diff(self):\n",
    "        return Multiplication(cos(self.argument), self.argument.diff())\n",
    "\n",
    "class cos(UnaryOperator):\n",
    "    def diff(self):\n",
    "        return Multiplication(Multiplication(cst(-1), sin(self.argument)), self.argument.diff())\n",
    "\n",
    "class exp(UnaryOperator):\n",
    "    def diff(self):\n",
    "        return Multiplication(exp(self.argument), self.argument.diff())\n",
    "    \n",
    "class ln(UnaryOperator):\n",
    "    def diff(self):\n",
    "        return Multiplication(frc(self.argument), self.argument.diff())\n",
    "\n",
    "class frc(UnaryOperator):\n",
    "    def __str__(self):\n",
    "        return f\"1/({self.argument})\"\n",
    "    \n",
    "    def diff(self):\n",
    "        return mocnina(self.argument, cst(-1)).diff()\n"
   ]
  },
  {
   "cell_type": "code",
   "execution_count": null,
   "metadata": {},
   "outputs": [],
   "source": [
    "# takto by se to mělo používat\n",
    "x = identity()\n",
    "# sin(x + cos(x*x)) + 1\n",
    "f1 = sin(x + cos(x*x)) + cst(1)\n",
    "print(f1)\n",
    "print(f1.diff())\n",
    "print(f1.diff().simplify())"
   ]
  },
  {
   "attachments": {},
   "cell_type": "markdown",
   "metadata": {},
   "source": [
    "můj výstup byl:\n",
    "\n",
    "`sin(x + cos((x)*(x))) + 1`\n",
    "\n",
    "`(cos(x + cos((x)*(x))))*(1 + ((-1)*(sin((x)*(x))))*((1)*(x) + (x)*(1))) + 0`"
   ]
  },
  {
   "cell_type": "code",
   "execution_count": null,
   "metadata": {},
   "outputs": [],
   "source": [
    "# derivace\n",
    "x = identity()\n",
    "# x ^ 2 + 2x + 1 + 2x ^ 2\n",
    "f2 = mocnina(x,2) + cst(2)*x + cst(1) + cst(2)*mocnina(x,2)\n",
    "print(f2)\n",
    "print(f2.diff())\n",
    "print(f2.diff().simplify())"
   ]
  },
  {
   "attachments": {},
   "cell_type": "markdown",
   "metadata": {},
   "source": [
    "můj výstup byl:\n",
    "\n",
    "`(x)^2 + (2)*(x) + 1 + (2)*((x)^2)`\n",
    "\n",
    "`((2)*((x)^1))*(1) + (0)*(x) + (2)*(1) + 0 + (0)*((x)^2) + (2)*(((2)*((x)^1))*(1))`"
   ]
  },
  {
   "cell_type": "code",
   "execution_count": null,
   "metadata": {},
   "outputs": [],
   "source": [
    "# derivace\n",
    "x = identity()\n",
    "# x ^ 2 + 2x + exp(x)\n",
    "f3 = mocnina(x,2) + cst(2)*x + exp(x)\n",
    "print(f3)\n",
    "print(f3.diff())\n",
    "print(f3.diff().simplify())\n"
   ]
  },
  {
   "attachments": {},
   "cell_type": "markdown",
   "metadata": {},
   "source": [
    "můj výstup byl:\n",
    "\n",
    "`(x)^2 + (2)*(x) + exp(x)`\n",
    "\n",
    "`((2)*((x)^1))*(1) + (0)*(x) + (2)*(1) + (exp(x))*(1)`\n"
   ]
  },
  {
   "cell_type": "code",
   "execution_count": null,
   "outputs": [],
   "source": [
    "# derivace\n",
    "x = identity()\n",
    "f4 = ln(x) + mocnina(x,4)\n",
    "print(f4)\n",
    "print(f4.diff())"
   ],
   "metadata": {
    "collapsed": false
   }
  },
  {
   "cell_type": "code",
   "execution_count": null,
   "outputs": [],
   "source": [
    "# derivace\n",
    "x = identity()\n",
    "f5 = exp(x * cst(4))\n",
    "print(f5.diff())\n",
    "print(f5.diff().simplify())"
   ],
   "metadata": {
    "collapsed": false
   }
  },
  {
   "cell_type": "code",
   "execution_count": null,
   "outputs": [],
   "source": [
    "# simplify scitani s nulou\n",
    "x = identity()\n",
    "f = cst(0) + cst(4)\n",
    "print(f)\n",
    "print(f.simplify())"
   ],
   "metadata": {
    "collapsed": false
   }
  },
  {
   "cell_type": "code",
   "execution_count": null,
   "outputs": [],
   "source": [
    "# simplify nasobeni nulou\n",
    "x = Multiplication(cst(0),cst(5))\n",
    "print(x)\n",
    "print(x.simplify())"
   ],
   "metadata": {
    "collapsed": false
   }
  },
  {
   "cell_type": "code",
   "execution_count": null,
   "outputs": [],
   "source": [
    "# simplify mocniny\n",
    "x = mocnina(2,18) + mocnina(identity(),0) + mocnina(2,1)\n",
    "print(x)\n",
    "print(x.simplify())"
   ],
   "metadata": {
    "collapsed": false
   }
  },
  {
   "cell_type": "code",
   "execution_count": null,
   "outputs": [],
   "source": [
    "# simplify nasobeni 1\n",
    "z = Multiplication(Multiplication(mocnina(identity(), 6), frc(mocnina(identity(), 4))), cst(1))\n",
    "print(z)\n",
    "print(z.simplify())"
   ],
   "metadata": {
    "collapsed": false
   }
  },
  {
   "attachments": {},
   "cell_type": "markdown",
   "metadata": {},
   "source": [
    "# Bonusový úkol:\n",
    "Doplňte ke všem třídám metodu `simplify()`, která provede zjednodušení výrazu. Například:\n",
    "- součet s nulou vrátí druhý operand\n",
    "- součin s nulou vrátí nulu\n",
    "- mocnina s exponentem 0 vrátí 1\n",
    "- mocnina s exponentem 1 vrátí první argument\n",
    "- součín dvou stejných argumentů vrátí mocninu s exponentem 2\n",
    "- součin konstant vrátí konstantu se součinem\n",
    "- ..."
   ]
  }
 ],
 "metadata": {
  "kernelspec": {
   "display_name": "Python 3",
   "language": "python",
   "name": "python3"
  },
  "language_info": {
   "codemirror_mode": {
    "name": "ipython",
    "version": 3
   },
   "file_extension": ".py",
   "mimetype": "text/x-python",
   "name": "python",
   "nbconvert_exporter": "python",
   "pygments_lexer": "ipython3",
   "version": "3.10.9"
  },
  "orig_nbformat": 4,
  "vscode": {
   "interpreter": {
    "hash": "e7370f93d1d0cde622a1f8e1c04877d8463912d04d973331ad4851f04de6915a"
   }
  }
 },
 "nbformat": 4,
 "nbformat_minor": 2
}
