{
 "cells": [
  {
   "attachments": {},
   "cell_type": "markdown",
   "metadata": {},
   "source": [
    "# Prostory jmen a obor platnosti proměnných:\n",
    "- Upravte funkci nalézající prvočísla tak, aby ukládala již spočítané prvočísla do listu v defaultním argumentu funkce. \n"
   ]
  },
  {
   "cell_type": "code",
   "execution_count": 158,
   "metadata": {},
   "outputs": [],
   "source": [
    "def najdi_prvocisla(n, prvocisla = [2]):\n",
    "    print(f\"argument list parametru prvocisla obsahuje {prvocisla}\")\n",
    "    i = prvocisla[-1]\n",
    "    while len(prvocisla) < n:\n",
    "        i += 1\n",
    "        for prvocislo in prvocisla:\n",
    "            if i % prvocislo == 0:\n",
    "                break\n",
    "        else:\n",
    "            prvocisla.append(i)\n",
    "    return prvocisla"
   ]
  },
  {
   "cell_type": "code",
   "execution_count": 55,
   "outputs": [
    {
     "name": "stdout",
     "output_type": "stream",
     "text": [
      "argument list parametru prvocisla obsahuje [2, 3, 5, 7, 11, 13, 17, 19, 23, 29]\n",
      "[2, 3, 5, 7, 11, 13, 17, 19, 23, 29]\n",
      "argument list parametru prvocisla obsahuje [2, 3, 5, 7, 11, 13, 17, 19, 23, 29]\n",
      "[2, 3, 5, 7, 11, 13, 17, 19, 23, 29]\n",
      "argument list parametru prvocisla obsahuje [2, 3, 5, 7, 11, 13, 17, 19, 23, 29]\n",
      "[2, 3, 5, 7, 11, 13, 17, 19, 23, 29]\n",
      "argument list parametru prvocisla obsahuje [2, 3, 5, 7, 11, 13, 17, 19, 23, 29]\n",
      "[2, 3, 5, 7, 11, 13, 17, 19, 23, 29, 31, 37, 41, 43, 47, 53, 59, 61, 67, 71, 73, 79, 83, 89, 97, 101, 103, 107, 109, 113, 127, 131, 137, 139, 149, 151, 157, 163, 167, 173]\n"
     ]
    }
   ],
   "source": [
    "print(najdi_prvocisla(2))\n",
    "print(najdi_prvocisla(2))\n",
    "print(najdi_prvocisla(10))\n",
    "print(najdi_prvocisla(40))"
   ],
   "metadata": {
    "collapsed": false
   }
  },
  {
   "attachments": {},
   "cell_type": "markdown",
   "metadata": {},
   "source": [
    "\n",
    "# Jupyter magics:\n",
    "- použijte funkci %%writefile a pomocí ní (a kopie funkcí z posledního DU) vytvořte .py soubor sloužící jako modul mající tři funkce viz minulý DU\n",
    "- Použijte magic příkazy %time %timeit %%time a %%timeit k měření času běhu různých částí kódu (například funkcí z minulého DU).\n"
   ]
  },
  {
   "cell_type": "code",
   "execution_count": 57,
   "outputs": [],
   "source": [],
   "metadata": {
    "collapsed": false
   }
  },
  {
   "cell_type": "code",
   "execution_count": 105,
   "metadata": {},
   "outputs": [
    {
     "name": "stdout",
     "output_type": "stream",
     "text": [
      "Writing pi_approximation.py\n"
     ]
    }
   ],
   "source": [
    "%%writefile pi_approximation.py\n",
    "import math\n",
    "def proste_iterace(a,n):\n",
    "    x_i = a\n",
    "    for _ in range(n):\n",
    "        x = (a/x_i + x_i)/2\n",
    "        x_i = x\n",
    "    return x_i\n",
    "\n",
    "# vypocte obsah 6*2^n uhelniku, odhad pi\n",
    "def odhad_pi(n):\n",
    "    # inicializace hodnot, zaciname s rovnoramennym trojuhelnikem s delkou strany 1\n",
    "    # a je delka ramene a vzdy bude rovna 1, b je delka zakladny, v je vyska, S je obsah aktualniho mnohouhelniku\n",
    "    a, b, v, S = 1, 1, None, 0\n",
    "\n",
    "    v = proste_iterace(a**2 - (b/2)**2, 100)\n",
    "    if n == 0:\n",
    "        S = 6 * 2**n * b * v / 2\n",
    "        return S\n",
    "\n",
    "    condition_check = False\n",
    "    for i in range(1,n):\n",
    "        b = proste_iterace((b/2)**2 + (1 - v)**2, 100)\n",
    "        v = proste_iterace(a**2 - (b/2)**2, 100)\n",
    "        S = 6 * 2**i * b * v / 2\n",
    "        if (abs(S - math.pi) <= 10**-6) and (condition_check is not True):\n",
    "            condition_check = True\n",
    "            # print(f\"Potrebujeme alespon {6 * 2**i} uhelnik, aby aproximace Pi byla s chybou mensi nez 10 ^ -6. Iterace {i}\")\n",
    "            continue\n",
    "\n",
    "\n",
    "    return S\n",
    "\n",
    "def odhad_pi_newton(n):\n",
    "    a = (1 / 2) * (1 / (2 ** 3))\n",
    "    suma = ((1 / ((2 * 1) + 1)) * a)\n",
    "    for i in range(2, n + 1):\n",
    "        a = a * ((2 * i - 3) / (2 * i)) * (1 / (2 ** 2))\n",
    "        suma += ((1 / ((2 * i) + 1)) * a)\n",
    "    pi = 12 * (-(proste_iterace(3, 1000) / 8) + (1 / 2) - suma)\n",
    "    return pi"
   ]
  },
  {
   "cell_type": "code",
   "execution_count": 106,
   "outputs": [],
   "source": [
    "from pi_approximation import odhad_pi, odhad_pi_newton, proste_iterace"
   ],
   "metadata": {
    "collapsed": false
   }
  },
  {
   "cell_type": "code",
   "execution_count": 94,
   "outputs": [
    {
     "name": "stdout",
     "output_type": "stream",
     "text": [
      "CPU times: total: 31.2 ms\n",
      "Wall time: 161 ms\n"
     ]
    },
    {
     "data": {
      "text/plain": "11111.081090515"
     },
     "execution_count": 94,
     "metadata": {},
     "output_type": "execute_result"
    }
   ],
   "source": [
    "%time proste_iterace(123456123, 1000000)"
   ],
   "metadata": {
    "collapsed": false
   }
  },
  {
   "cell_type": "code",
   "execution_count": 95,
   "outputs": [
    {
     "name": "stdout",
     "output_type": "stream",
     "text": [
      "131 µs ± 45.7 µs per loop (mean ± std. dev. of 7 runs, 10,000 loops each)\n"
     ]
    }
   ],
   "source": [
    "%%timeit\n",
    "proste_iterace(123456123, 1000)"
   ],
   "metadata": {
    "collapsed": false
   }
  },
  {
   "cell_type": "code",
   "execution_count": 96,
   "outputs": [
    {
     "name": "stdout",
     "output_type": "stream",
     "text": [
      "122 µs ± 37.6 µs per loop (mean ± std. dev. of 7 runs, 10,000 loops each)\n"
     ]
    }
   ],
   "source": [
    "%timeit odhad_pi_newton(20)"
   ],
   "metadata": {
    "collapsed": false
   }
  },
  {
   "cell_type": "code",
   "execution_count": 97,
   "outputs": [
    {
     "name": "stdout",
     "output_type": "stream",
     "text": [
      "244 µs ± 78.7 µs per loop (mean ± std. dev. of 7 runs, 10,000 loops each)\n"
     ]
    }
   ],
   "source": [
    "%%timeit\n",
    "odhad_pi_newton(20)"
   ],
   "metadata": {
    "collapsed": false
   }
  },
  {
   "cell_type": "code",
   "execution_count": 98,
   "outputs": [
    {
     "name": "stdout",
     "output_type": "stream",
     "text": [
      "CPU times: total: 0 ns\n",
      "Wall time: 520 µs\n"
     ]
    },
    {
     "data": {
      "text/plain": "3.1415926535897936"
     },
     "execution_count": 98,
     "metadata": {},
     "output_type": "execute_result"
    }
   ],
   "source": [
    "%%time\n",
    "odhad_pi_newton(20)"
   ],
   "metadata": {
    "collapsed": false
   }
  },
  {
   "cell_type": "markdown",
   "metadata": {},
   "source": [
    "\n",
    "# Práce s řetězci:\n",
    "\n",
    "- Použíjte funkce z minulého úkolu a v cyklu spočtěte $\\pi$ s různým $n$. Pomocí f-strings vypište výsledky ve formátu \"n = 5, pi = 3.14159, počet správných cifer = 5\".\n"
   ]
  },
  {
   "cell_type": "code",
   "execution_count": 107,
   "metadata": {},
   "outputs": [
    {
     "name": "stdout",
     "output_type": "stream",
     "text": [
      "Potrebujeme alespon 6144 uhelnik, aby aproximace Pi byla s chybou mensi nez 10 ^ -6. Iterace 10\n",
      "n=20, pi=3.1415926535877032\n",
      "Potrebujeme alespon 6144 uhelnik, aby aproximace Pi byla s chybou mensi nez 10 ^ -6. Iterace 10\n",
      "n=21, pi=3.14159265358927\n",
      "Potrebujeme alespon 6144 uhelnik, aby aproximace Pi byla s chybou mensi nez 10 ^ -6. Iterace 10\n",
      "n=22, pi=3.1415926535896617\n",
      "Potrebujeme alespon 6144 uhelnik, aby aproximace Pi byla s chybou mensi nez 10 ^ -6. Iterace 10\n",
      "n=23, pi=3.14159265358976\n",
      "Potrebujeme alespon 6144 uhelnik, aby aproximace Pi byla s chybou mensi nez 10 ^ -6. Iterace 10\n",
      "n=24, pi=3.1415926535897842\n",
      "Potrebujeme alespon 6144 uhelnik, aby aproximace Pi byla s chybou mensi nez 10 ^ -6. Iterace 10\n",
      "n=25, pi=3.141592653589791\n",
      "Potrebujeme alespon 6144 uhelnik, aby aproximace Pi byla s chybou mensi nez 10 ^ -6. Iterace 10\n",
      "n=26, pi=3.141592653589792\n",
      "Potrebujeme alespon 6144 uhelnik, aby aproximace Pi byla s chybou mensi nez 10 ^ -6. Iterace 10\n",
      "n=27, pi=3.1415926535897922\n",
      "Potrebujeme alespon 6144 uhelnik, aby aproximace Pi byla s chybou mensi nez 10 ^ -6. Iterace 10\n",
      "n=28, pi=3.1415926535897922\n",
      "Potrebujeme alespon 6144 uhelnik, aby aproximace Pi byla s chybou mensi nez 10 ^ -6. Iterace 10\n",
      "n=29, pi=3.1415926535897922\n",
      "Potrebujeme alespon 6144 uhelnik, aby aproximace Pi byla s chybou mensi nez 10 ^ -6. Iterace 10\n",
      "n=30, pi=3.1415926535897922\n",
      "Potrebujeme alespon 6144 uhelnik, aby aproximace Pi byla s chybou mensi nez 10 ^ -6. Iterace 10\n",
      "n=31, pi=3.1415926535897922\n",
      "Potrebujeme alespon 6144 uhelnik, aby aproximace Pi byla s chybou mensi nez 10 ^ -6. Iterace 10\n",
      "n=32, pi=3.1415926535897922\n",
      "Potrebujeme alespon 6144 uhelnik, aby aproximace Pi byla s chybou mensi nez 10 ^ -6. Iterace 10\n",
      "n=33, pi=3.1415926535897922\n",
      "Potrebujeme alespon 6144 uhelnik, aby aproximace Pi byla s chybou mensi nez 10 ^ -6. Iterace 10\n",
      "n=34, pi=3.1415926535897922\n",
      "Potrebujeme alespon 6144 uhelnik, aby aproximace Pi byla s chybou mensi nez 10 ^ -6. Iterace 10\n",
      "n=35, pi=3.1415926535897922\n"
     ]
    }
   ],
   "source": [
    "for n in range(20,36):\n",
    "    pi = odhad_pi(n)\n",
    "    print(f\"{n=}, {pi=}\")"
   ]
  },
  {
   "cell_type": "code",
   "execution_count": 108,
   "outputs": [
    {
     "name": "stdout",
     "output_type": "stream",
     "text": [
      "n=1, pi=3.1519237886466844\n",
      "n=2, pi=3.1425487886466845\n",
      "n=3, pi=3.1417117350752557\n",
      "n=4, pi=3.1416100098148387\n",
      "n=5, pi=3.1415954446070975\n",
      "n=6, pi=3.1415931337808694\n",
      "n=7, pi=3.1415927403902137\n",
      "n=8, pi=3.1415926698836163\n",
      "n=9, pi=3.1415926567409396\n"
     ]
    }
   ],
   "source": [
    "for n in range(1,10):\n",
    "    pi = odhad_pi_newton(n)\n",
    "    print(f\"{n=}, {pi=}\")"
   ],
   "metadata": {
    "collapsed": false
   }
  },
  {
   "cell_type": "markdown",
   "metadata": {},
   "source": [
    "\n",
    "# Generátory a iterátory:\n",
    "\n",
    "- Napište generátor (funkci), který vytváří Fibonacciho posloupnost a vrátí prvních $n$ členů.\n"
   ]
  },
  {
   "cell_type": "code",
   "execution_count": 114,
   "metadata": {},
   "outputs": [],
   "source": [
    "def fib(n):\n",
    "    prev, next = 0,1\n",
    "    for i in range(0,n):\n",
    "        yield prev\n",
    "        prev, next = next, prev+ next"
   ]
  },
  {
   "cell_type": "code",
   "execution_count": 120,
   "outputs": [
    {
     "name": "stdout",
     "output_type": "stream",
     "text": [
      "0\n",
      "1\n",
      "1\n",
      "2\n",
      "3\n",
      "5\n",
      "8\n",
      "13\n",
      "21\n"
     ]
    },
    {
     "ename": "StopIteration",
     "evalue": "",
     "output_type": "error",
     "traceback": [
      "\u001B[1;31m---------------------------------------------------------------------------\u001B[0m",
      "\u001B[1;31mStopIteration\u001B[0m                             Traceback (most recent call last)",
      "Cell \u001B[1;32mIn[120], line 11\u001B[0m\n\u001B[0;32m      9\u001B[0m \u001B[38;5;28mprint\u001B[39m(\u001B[38;5;28mnext\u001B[39m(fibonacci_seq))\n\u001B[0;32m     10\u001B[0m \u001B[38;5;28mprint\u001B[39m(\u001B[38;5;28mnext\u001B[39m(fibonacci_seq))\n\u001B[1;32m---> 11\u001B[0m \u001B[38;5;28mprint\u001B[39m(\u001B[38;5;28;43mnext\u001B[39;49m\u001B[43m(\u001B[49m\u001B[43mfibonacci_seq\u001B[49m\u001B[43m)\u001B[49m)\n",
      "\u001B[1;31mStopIteration\u001B[0m: "
     ]
    }
   ],
   "source": [
    "fibonacci_seq = fib(9)\n",
    "print(next(fibonacci_seq))\n",
    "print(next(fibonacci_seq))\n",
    "print(next(fibonacci_seq))\n",
    "print(next(fibonacci_seq))\n",
    "print(next(fibonacci_seq))\n",
    "print(next(fibonacci_seq))\n",
    "print(next(fibonacci_seq))\n",
    "print(next(fibonacci_seq))\n",
    "print(next(fibonacci_seq))\n",
    "print(next(fibonacci_seq))"
   ],
   "metadata": {
    "collapsed": false
   }
  },
  {
   "cell_type": "code",
   "execution_count": 121,
   "outputs": [
    {
     "name": "stdout",
     "output_type": "stream",
     "text": [
      "0\n",
      "1\n",
      "1\n",
      "2\n",
      "3\n"
     ]
    }
   ],
   "source": [
    "fibonacci_seq = fib(5)\n",
    "for i in fibonacci_seq:\n",
    "    print(i)"
   ],
   "metadata": {
    "collapsed": false
   }
  },
  {
   "cell_type": "markdown",
   "metadata": {},
   "source": [
    "# List comprehension:\n",
    "- Vytvořte seznam čísel od 1 do 10 pomocí list comprehension.\n",
    "- Vytvořte seznam druhých mocnin čísel od 1 do 10 pomocí list comprehension.\n",
    "- Vytvořte seznam prvočísel od 1 do 100 pomocí list comprehension. Hint (použijte funkci all() na generátor testující dělitelnost).\n"
   ]
  },
  {
   "cell_type": "code",
   "execution_count": 123,
   "metadata": {},
   "outputs": [
    {
     "data": {
      "text/plain": "[1, 2, 3, 4, 5, 6, 7, 8, 9, 10]"
     },
     "execution_count": 123,
     "metadata": {},
     "output_type": "execute_result"
    }
   ],
   "source": [
    "num_list = [x for x in range(1,11)]\n",
    "num_list"
   ]
  },
  {
   "cell_type": "code",
   "execution_count": 125,
   "outputs": [
    {
     "data": {
      "text/plain": "[1, 4, 9, 16, 25, 36, 49, 64, 81, 100]"
     },
     "execution_count": 125,
     "metadata": {},
     "output_type": "execute_result"
    }
   ],
   "source": [
    "squared_list = [x**2 for x in range(1,11)]\n",
    "squared_list"
   ],
   "metadata": {
    "collapsed": false
   }
  },
  {
   "cell_type": "code",
   "execution_count": 176,
   "outputs": [
    {
     "name": "stdout",
     "output_type": "stream",
     "text": [
      "[2, 3, 5, 7, 11, 13, 17, 19, 23, 29, 31, 37, 41, 43, 47, 53, 59, 61, 67, 71, 73, 79, 83, 89, 97]\n"
     ]
    }
   ],
   "source": [
    "lst = [i for i in range(2,100) if all(i % x != 0 for x in range(2,i))]\n",
    "print(lst)"
   ],
   "metadata": {
    "collapsed": false
   }
  },
  {
   "cell_type": "markdown",
   "metadata": {},
   "source": [
    "# Práce se soubory:\n",
    "- Pomocí %%writefile vytvořte soubor s nějakým textem.\n",
    "- Otevřete soubor pro čtení a vypište jeho obsah.\n",
    "- Otevřete jiný soubor pro zápis a napište do něj textový řetězec.\n",
    "- Pomocí f-strings zapište do souboru tabulku čísel od 1 do 10, jejich druhých mocnin a jejich druhých odmocnin."
   ]
  },
  {
   "cell_type": "code",
   "execution_count": null,
   "outputs": [],
   "source": [],
   "metadata": {
    "collapsed": false
   }
  },
  {
   "cell_type": "code",
   "execution_count": 136,
   "outputs": [
    {
     "name": "stdout",
     "output_type": "stream",
     "text": [
      "Writing test.txt\n"
     ]
    }
   ],
   "source": [
    "%%writefile test.txt\n",
    "This is a test file"
   ],
   "metadata": {
    "collapsed": false
   }
  },
  {
   "cell_type": "code",
   "execution_count": 138,
   "metadata": {},
   "outputs": [
    {
     "name": "stdout",
     "output_type": "stream",
     "text": [
      "This is a test file\n",
      "\n"
     ]
    }
   ],
   "source": [
    "with open(\"test.txt\", \"r\") as file:\n",
    "    print(file.read())"
   ]
  },
  {
   "cell_type": "code",
   "execution_count": 142,
   "outputs": [],
   "source": [
    "with open(\"write.txt\", \"w\") as file:\n",
    "    file.write(\"Hello,\\nworld\\n\")\n",
    "    for i in range(1,11):\n",
    "        file.write(f\"{i: >6} {i**2: >6} {i**3: >6}\\n\")"
   ],
   "metadata": {
    "collapsed": false
   }
  },
  {
   "cell_type": "code",
   "execution_count": null,
   "outputs": [],
   "source": [],
   "metadata": {
    "collapsed": false
   }
  },
  {
   "attachments": {},
   "cell_type": "markdown",
   "metadata": {},
   "source": [
    "# Domácí úkol:\n",
    "Pomocí vlastních tříd a dědičnosti vytvořte \"soubor tříd\" = nástroj pro derivaci funkcí.\n",
    "\n",
    "Konkrétněji:\n",
    "- Vytvořte třídu **Operator**\n",
    "    - Třída bude mít metody:\n",
    "        - `__init__()` - inicializuje operátor (zde stačí `pass`)\n",
    "        - `__str__()` - vrací řetězec reprezentující operátor\n",
    "        - `__repr__()` - vrací řetězec reprezentující operátor\n",
    "- Vytvořte třídu **BinaryOperator**, která bude dědit od třídy Operator\n",
    "    - Třída bude mít atributy:\n",
    "        - `levy_argument` - levý operand\n",
    "        - `pravy_argument` - pravý operand\n",
    "    - Třída bude mít metody:\n",
    "        - `__init__()` - inicializuje operátor, přiřadí argumenty\n",
    "        - `__str__()` - vrací řetězec reprezentující operátor\n",
    "        - `__repr__()` - vrací řetězec reprezentující operátor\n",
    "        - `diff()` - vrací derivaci operátoru\n",
    "- Vytvořte třídu **UnaryOperator**, která bude dědit od třídy Operator\n",
    "    - Třída bude mít atributy:\n",
    "        - `argument` - argument funkce \n",
    "    - Třída bude mít metody:\n",
    "        - `__init__()` - inicializuje operátor, přiřadí argument\n",
    "        - `__str__()` - vrací řetězec reprezentující operátor\n",
    "        - `__repr__()` - vrací řetězec reprezentující operátor\n",
    "        - `diff()` - vrací derivaci operátoru\n",
    "\n",
    "Pro počítání derivací použijte standardní pravidla:\n",
    "- derivace součtu je součet derivací\n",
    "- pravidlo pro derivaci součinu\n",
    "- derivace funkce je derivovaná funkce násobená derivovaným argumentem\n",
    "\n",
    "Pro **BinaryOperator** a **UnaryOperator** implementujte také metody implementující standardní operátory:\n",
    "- `__add__()` - implementuje operátor `+`\n",
    "- `__sub__()` - implementuje operátor `-`\n",
    "- `__mul__()` - implementuje operátor `*`\n",
    "\n",
    "Pro **BinaryOperator** implementujte dvě dceřiné třídy:\n",
    "- **Addition** - implementuje operátor `+`\n",
    "- **Multiplication** - implementuje operátor `*`\n",
    "\n",
    "Pro **UnaryOperator** implementujte tyto dceřiné třídy:\n",
    "- **exp** - implementuje funkci `exp`\n",
    "- **sin** - implementuje funkci `sin`\n",
    "- **cos** - implementuje funkci `cos`\n",
    "- **ln** - implementuje funkci `ln`\n",
    "- **frc** - implementuje funkci `1/x`\n",
    "- **identity** - implementuje identitu `x`\n",
    "- **cst** - implementuje konstantu `c`\n",
    "- **mocnina** - implementuje mocninu `x^n`\n",
    "\n",
    "U všech funckí implementujte adekvátně metodu `diff()` a `__str__()`, tak aby se funkce vypisovaly v přehledné podobě.\n",
    "\n",
    "Ozkoušejte na následujících funkcích:\n",
    "- $sin(x + cos(x*x)) + 1$\n",
    "- $x^2 + 2x + 1 + 2x^2$\n",
    "- $x^2 + 2x + exp(x)$"
   ]
  },
  {
   "cell_type": "code",
   "execution_count": 298,
   "metadata": {},
   "outputs": [],
   "source": [
    "# kostra k doplnění, místa označená TODO doplňte\n",
    "\n",
    "class Operator:\n",
    "    def __init__(self):\n",
    "        pass\n",
    "    \n",
    "    def __str__(self):\n",
    "        return type(self).__name__\n",
    "    \n",
    "    def __repr__(self):\n",
    "        return self.__str__()\n",
    "    \n",
    "    def diff(self):\n",
    "        pass\n",
    "    \n",
    "    def __add__(self, other):\n",
    "        return Addition(self,other)\n",
    "    \n",
    "    def __sub__(self, other):\n",
    "        return Addition(self,Multiplication(cst(-1), other))\n",
    "    \n",
    "    def __mul__(self, other):\n",
    "        return Multiplication(self,other)\n",
    "\n",
    "    def simplify(self):\n",
    "        return self.__str__()\n",
    "    \n",
    "class BinaryOperator(Operator):\n",
    "    def __init__(self, levy_argument, pravy_argument):\n",
    "        self.levy_argument = levy_argument\n",
    "        self.pravy_argument = pravy_argument\n",
    "        \n",
    "class UnaryOperator(Operator):\n",
    "    def __init__(self, argument):\n",
    "        self.argument = argument\n",
    "    \n",
    "    def __str__(self):\n",
    "        return type(self).__name__ + \"(\" + str(self.argument) + \")\"\n",
    "        \n",
    "class Addition(BinaryOperator):\n",
    "    def __str__(self):\n",
    "        return f\"{self.levy_argument} + {self.pravy_argument}\"\n",
    "\n",
    "    def diff(self):\n",
    "        return Addition(self.levy_argument.diff(), self.pravy_argument.diff())\n",
    "\n",
    "    def simplify(self):\n",
    "        self.levy_argument = self.levy_argument.simplify()\n",
    "        self.pravy_argument = self.pravy_argument.simplify()\n",
    "        if self.levy_argument == \"0\" and self.pravy_argument == \"0\":\n",
    "            return \"\"\n",
    "        elif self.levy_argument == \"0\":\n",
    "            return f\"{self.pravy_argument}\"\n",
    "        elif self.pravy_argument == \"0\":\n",
    "            return f\"{self.levy_argument}\"\n",
    "        else:\n",
    "            return self.__str__()\n",
    "    \n",
    "class Multiplication(BinaryOperator):\n",
    "    def __str__(self):\n",
    "        return f\"({self.levy_argument})*({self.pravy_argument})\"\n",
    "\n",
    "    def diff(self):\n",
    "        return Addition(Multiplication(self.levy_argument.diff(), self.pravy_argument), Multiplication(self.levy_argument, self.pravy_argument.diff()))\n",
    "\n",
    "    def simplify(self):\n",
    "        self.levy_argument = self.levy_argument.simplify()\n",
    "        self.pravy_argument = self.pravy_argument.simplify()\n",
    "        if self.levy_argument == \"0\" or self.pravy_argument == \"0\":\n",
    "            return \"0\"\n",
    "        elif self.levy_argument == self.pravy_argument:\n",
    "            return mocnina(self.levy_argument, 2)\n",
    "        elif type(self.levy_argument) is cst and type(self.pravy_argument) is cst:\n",
    "            return cst(Multiplication(self.levy_argument, self.pravy_argument))\n",
    "        else:\n",
    "            return self.__str__()\n",
    "    \n",
    "class cst(UnaryOperator):\n",
    "    def __init__(self, value):\n",
    "        self.value = value\n",
    "    def __str__(self):\n",
    "        return f\"{self.value}\"\n",
    "    def diff(self):\n",
    "        return cst(0)\n",
    "\n",
    "    def simplify(self):\n",
    "        return f\"{self.value}\"\n",
    "\n",
    "class identity(UnaryOperator):\n",
    "    def __init__(self):\n",
    "        pass\n",
    "    def __str__(self):\n",
    "        return \"x\"\n",
    "    def diff(self):\n",
    "        return cst(1)\n",
    "\n",
    "    def simplify(self):\n",
    "        return self\n",
    "\n",
    "    \n",
    "class mocnina(UnaryOperator):\n",
    "    def __init__(self, argument, exponent):\n",
    "        self.argument = argument\n",
    "        self.exponent = exponent\n",
    "    def __str__(self):\n",
    "        return f\"({self.argument})^{self.exponent}\"\n",
    "    def diff(self):\n",
    "        return Multiplication(Multiplication(self.exponent, mocnina(self.argument, self.exponent - 1)), self.argument.diff())\n",
    "\n",
    "    def simplify(self):\n",
    "        if self.exponent == 0 or self.argument == 1:\n",
    "            self.argument = 1\n",
    "            return f\"{self.argument}\"\n",
    "        elif self.exponent == 1:\n",
    "            return f\"{self.argument}\"\n",
    "        else:\n",
    "            return self\n",
    "\n",
    "\n",
    "    \n",
    "class sin(UnaryOperator):\n",
    "    def diff(self):\n",
    "        return Multiplication(cos(self.argument), self.argument.diff())\n",
    "\n",
    "class cos(UnaryOperator):\n",
    "    def diff(self):\n",
    "        return Multiplication(Multiplication(cst(-1), sin(self.argument)), self.argument.diff())\n",
    "\n",
    "class exp(UnaryOperator):\n",
    "    def diff(self):\n",
    "        return Multiplication(exp(self.argument), self.argument.diff())\n",
    "    \n",
    "class ln(UnaryOperator):\n",
    "    def diff(self):\n",
    "        return Multiplication(frc(self.argument), self.argument.diff())\n",
    "\n",
    "class frc(UnaryOperator):\n",
    "    def __str__(self):\n",
    "        return f\"1/({self.argument})\"\n",
    "    \n",
    "    def diff(self):\n",
    "        return mocnina(self.argument, cst(-1)).diff()\n"
   ]
  },
  {
   "cell_type": "code",
   "execution_count": 301,
   "metadata": {},
   "outputs": [
    {
     "name": "stdout",
     "output_type": "stream",
     "text": [
      "sin(x + cos((x)*(x))) + 1\n",
      "(cos(x + cos((x)*(x))))*(1 + ((-1)*(sin((x)*(x))))*((1)*(x) + (x)*(1))) + 0\n"
     ]
    }
   ],
   "source": [
    "# takto by se to mělo používat\n",
    "x = identity()\n",
    "# sin(x + cos(x*x)) + 1\n",
    "f1 = sin(x + cos(x*x)) + cst(1)\n",
    "print(f1)\n",
    "print(f1.diff())"
   ]
  },
  {
   "attachments": {},
   "cell_type": "markdown",
   "metadata": {},
   "source": [
    "můj výstup byl:\n",
    "\n",
    "`sin(x + cos((x)*(x))) + 1`\n",
    "\n",
    "`(cos(x + cos((x)*(x))))*(1 + ((-1)*(sin((x)*(x))))*((1)*(x) + (x)*(1))) + 0`"
   ]
  },
  {
   "cell_type": "code",
   "execution_count": 270,
   "metadata": {},
   "outputs": [
    {
     "name": "stdout",
     "output_type": "stream",
     "text": [
      "(x)^2 + (2)*(x) + 1 + (2)*((x)^2)\n",
      "((2)*((x)^1))*(1) + (0)*(x) + (2)*(1) + 0 + (0)*((x)^2) + (2)*(((2)*((x)^1))*(1))\n"
     ]
    }
   ],
   "source": [
    "x = identity()\n",
    "# x ^ 2 + 2x + 1 + 2x ^ 2\n",
    "f2 = mocnina(x,2) + cst(2)*x + cst(1) + cst(2)*mocnina(x,2)\n",
    "print(f2)\n",
    "print(f2.diff())"
   ]
  },
  {
   "attachments": {},
   "cell_type": "markdown",
   "metadata": {},
   "source": [
    "můj výstup byl:\n",
    "\n",
    "`(x)^2 + (2)*(x) + 1 + (2)*((x)^2)`\n",
    "\n",
    "`((2)*((x)^1))*(1) + (0)*(x) + (2)*(1) + 0 + (0)*((x)^2) + (2)*(((2)*((x)^1))*(1))`"
   ]
  },
  {
   "cell_type": "code",
   "execution_count": 271,
   "metadata": {},
   "outputs": [
    {
     "name": "stdout",
     "output_type": "stream",
     "text": [
      "(x)^2 + (2)*(x) + exp(x)\n",
      "((2)*((x)^1))*(1) + (0)*(x) + (2)*(1) + (exp(x))*(1)\n"
     ]
    }
   ],
   "source": [
    "x = identity()\n",
    "# x ^ 2 + 2x + exp(x)\n",
    "f3 = mocnina(x,2) + cst(2)*x + exp(x)\n",
    "print(f3)\n",
    "print(f3.diff())\n"
   ]
  },
  {
   "attachments": {},
   "cell_type": "markdown",
   "metadata": {},
   "source": [
    "můj výstup byl:\n",
    "\n",
    "`(x)^2 + (2)*(x) + exp(x)`\n",
    "\n",
    "`((2)*((x)^1))*(1) + (0)*(x) + (2)*(1) + (exp(x))*(1)`\n"
   ]
  },
  {
   "cell_type": "code",
   "execution_count": 275,
   "outputs": [
    {
     "name": "stdout",
     "output_type": "stream",
     "text": [
      "ln(x)\n",
      "(1/(x))*(1)\n"
     ]
    }
   ],
   "source": [
    "x = identity()\n",
    "f4 = ln(x)\n",
    "print(f4)\n",
    "print(f4.diff())"
   ],
   "metadata": {
    "collapsed": false
   }
  },
  {
   "cell_type": "code",
   "execution_count": 291,
   "outputs": [
    {
     "name": "stdout",
     "output_type": "stream",
     "text": [
      "x + 0 + x + 2 + (2)^0\n",
      "x + x + 2 + 1\n"
     ]
    }
   ],
   "source": [
    "x = identity()\n",
    "f = x + cst(0) + x + cst(2) + mocnina(2,0)\n",
    "print(f)\n",
    "print(f.simplify())"
   ],
   "metadata": {
    "collapsed": false
   }
  },
  {
   "cell_type": "code",
   "execution_count": 292,
   "outputs": [
    {
     "name": "stdout",
     "output_type": "stream",
     "text": [
      "((((x)*(x))*(x))*(3))*(3)\n",
      "((((x)^2)*(x))*(3))*(3)\n"
     ]
    }
   ],
   "source": [
    "x = identity()\n",
    "f = x * x * x * cst(3) * cst(3)\n",
    "print(f)\n",
    "print(f.simplify())"
   ],
   "metadata": {
    "collapsed": false
   }
  },
  {
   "cell_type": "code",
   "execution_count": 280,
   "outputs": [
    {
     "name": "stdout",
     "output_type": "stream",
     "text": [
      "(x)^2 + (2)*(x) + 1 + (2)*((x)^2)\n"
     ]
    }
   ],
   "source": [
    "x = identity()\n",
    "# x ^ 2 + 2x + 1 + 2x ^ 2\n",
    "f2 = mocnina(x,2) + cst(2)*x + cst(1) + cst(2)*mocnina(x,2)\n",
    "print(f2)\n",
    "f2_dif = f2.diff()"
   ],
   "metadata": {
    "collapsed": false
   }
  },
  {
   "cell_type": "code",
   "execution_count": 232,
   "outputs": [
    {
     "name": "stdout",
     "output_type": "stream",
     "text": [
      "retype\n",
      "<class '__main__.cst'>\n"
     ]
    }
   ],
   "source": [
    "f = cst(3) * cst(4)\n",
    "print(type(f.simplify()))"
   ],
   "metadata": {
    "collapsed": false
   }
  },
  {
   "cell_type": "code",
   "execution_count": 295,
   "outputs": [
    {
     "name": "stdout",
     "output_type": "stream",
     "text": [
      "(0)*(5)\n",
      "0\n"
     ]
    }
   ],
   "source": [
    "x = Multiplication(cst(0),cst(5))\n",
    "print(x)\n",
    "print(x.simplify())"
   ],
   "metadata": {
    "collapsed": false
   }
  },
  {
   "cell_type": "code",
   "execution_count": 202,
   "outputs": [
    {
     "name": "stdout",
     "output_type": "stream",
     "text": [
      "(2)^18 + (1)^20 + (2)^1\n",
      "(2)^18 + 1 + 2\n"
     ]
    }
   ],
   "source": [
    "x = mocnina(2,18) + mocnina(1,20) + mocnina(2,1)\n",
    "print(x)\n",
    "print(x.simplify())"
   ],
   "metadata": {
    "collapsed": false
   }
  },
  {
   "cell_type": "code",
   "execution_count": 262,
   "outputs": [
    {
     "name": "stdout",
     "output_type": "stream",
     "text": [
      "((2)^2)*(1)\n",
      "levy <class '__main__.cst'>\n"
     ]
    },
    {
     "ename": "AttributeError",
     "evalue": "'mocnina' object has no attribute 'value'",
     "output_type": "error",
     "traceback": [
      "\u001B[1;31m---------------------------------------------------------------------------\u001B[0m",
      "\u001B[1;31mAttributeError\u001B[0m                            Traceback (most recent call last)",
      "Cell \u001B[1;32mIn[262], line 3\u001B[0m\n\u001B[0;32m      1\u001B[0m x \u001B[38;5;241m=\u001B[39m Multiplication(mocnina(\u001B[38;5;241m2\u001B[39m,\u001B[38;5;241m2\u001B[39m), cst(\u001B[38;5;241m1\u001B[39m))\n\u001B[0;32m      2\u001B[0m \u001B[38;5;28mprint\u001B[39m(x)\n\u001B[1;32m----> 3\u001B[0m \u001B[38;5;28mprint\u001B[39m(\u001B[43mx\u001B[49m\u001B[38;5;241;43m.\u001B[39;49m\u001B[43msimplify\u001B[49m\u001B[43m(\u001B[49m\u001B[43m)\u001B[49m)\n",
      "Cell \u001B[1;32mIn[261], line 75\u001B[0m, in \u001B[0;36mMultiplication.simplify\u001B[1;34m(self)\u001B[0m\n\u001B[0;32m     73\u001B[0m \u001B[38;5;28;01melif\u001B[39;00m \u001B[38;5;28mtype\u001B[39m(\u001B[38;5;28mself\u001B[39m\u001B[38;5;241m.\u001B[39mlevy_argument) \u001B[38;5;129;01mis\u001B[39;00m cst \u001B[38;5;129;01mand\u001B[39;00m \u001B[38;5;28mtype\u001B[39m(\u001B[38;5;28mself\u001B[39m\u001B[38;5;241m.\u001B[39mpravy_argument) \u001B[38;5;129;01mis\u001B[39;00m cst:\n\u001B[0;32m     74\u001B[0m     \u001B[38;5;28;01mreturn\u001B[39;00m cst(Multiplication(\u001B[38;5;28mself\u001B[39m\u001B[38;5;241m.\u001B[39mlevy_argument, \u001B[38;5;28mself\u001B[39m\u001B[38;5;241m.\u001B[39mpravy_argument))\n\u001B[1;32m---> 75\u001B[0m \u001B[38;5;28;01melif\u001B[39;00m \u001B[38;5;28;43mself\u001B[39;49m\u001B[38;5;241;43m.\u001B[39;49m\u001B[43mlevy_argument\u001B[49m\u001B[38;5;241;43m.\u001B[39;49m\u001B[43mvalue\u001B[49m \u001B[38;5;241m==\u001B[39m \u001B[38;5;241m1\u001B[39m:\n\u001B[0;32m     76\u001B[0m     \u001B[38;5;28;01mreturn\u001B[39;00m \u001B[38;5;124mf\u001B[39m\u001B[38;5;124m\"\u001B[39m\u001B[38;5;124m(\u001B[39m\u001B[38;5;132;01m{\u001B[39;00m\u001B[38;5;28mself\u001B[39m\u001B[38;5;241m.\u001B[39mpravy_argument\u001B[38;5;132;01m}\u001B[39;00m\u001B[38;5;124m)\u001B[39m\u001B[38;5;124m\"\u001B[39m\n\u001B[0;32m     77\u001B[0m \u001B[38;5;28;01melif\u001B[39;00m \u001B[38;5;28mself\u001B[39m\u001B[38;5;241m.\u001B[39mpravy_argument\u001B[38;5;241m.\u001B[39mvalue \u001B[38;5;241m==\u001B[39m \u001B[38;5;241m1\u001B[39m:\n",
      "\u001B[1;31mAttributeError\u001B[0m: 'mocnina' object has no attribute 'value'"
     ]
    }
   ],
   "source": [
    "x = Multiplication(mocnina(2,2), cst(1))\n",
    "print(x)\n",
    "print(x.simplify())"
   ],
   "metadata": {
    "collapsed": false
   }
  },
  {
   "attachments": {},
   "cell_type": "markdown",
   "metadata": {},
   "source": [
    "# Bonusový úkol:\n",
    "Doplňte ke všem třídám metodu `simplify()`, která provede zjednodušení výrazu. Například:\n",
    "- součet s nulou vrátí druhý operand\n",
    "- součin s nulou vrátí nulu\n",
    "- mocnina s exponentem 0 vrátí 1\n",
    "- mocnina s exponentem 1 vrátí první argument\n",
    "- součín dvou stejných argumentů vrátí mocninu s exponentem 2\n",
    "- součin konstant vrátí konstantu se součinem\n",
    "- ..."
   ]
  },
  {
   "cell_type": "markdown",
   "metadata": {},
   "source": []
  }
 ],
 "metadata": {
  "kernelspec": {
   "display_name": "Python 3",
   "language": "python",
   "name": "python3"
  },
  "language_info": {
   "codemirror_mode": {
    "name": "ipython",
    "version": 3
   },
   "file_extension": ".py",
   "mimetype": "text/x-python",
   "name": "python",
   "nbconvert_exporter": "python",
   "pygments_lexer": "ipython3",
   "version": "3.10.9"
  },
  "orig_nbformat": 4,
  "vscode": {
   "interpreter": {
    "hash": "e7370f93d1d0cde622a1f8e1c04877d8463912d04d973331ad4851f04de6915a"
   }
  }
 },
 "nbformat": 4,
 "nbformat_minor": 2
}
